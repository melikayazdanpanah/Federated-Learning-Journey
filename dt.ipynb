{
 "cells": [
  {
   "cell_type": "code",
   "execution_count": 24,
   "metadata": {},
   "outputs": [],
   "source": [
    "import tensorflow as tf\n",
    "import tensorflow_federated as tff\n",
    "import tensorflow_privacy as tfp\n",
    "import nest_asyncio\n",
    "nest_asyncio.apply()\n",
    "import matplotlib.pyplot as plt"
   ]
  },
  {
   "cell_type": "code",
   "execution_count": 25,
   "metadata": {},
   "outputs": [],
   "source": [
    "# Load the CIFAR-10 dataset\n",
    "(cifar10_train_images, cifar10_train_labels), (cifar10_test_images, cifar10_test_labels) = tf.keras.datasets.cifar10.load_data()"
   ]
  },
  {
   "cell_type": "code",
   "execution_count": 26,
   "metadata": {},
   "outputs": [],
   "source": [
    "# Access the first image and its corresponding label from the training dataset\n",
    "sample_image = cifar10_train_images[0]\n",
    "sample_label = cifar10_train_labels[0]\n"
   ]
  },
  {
   "cell_type": "code",
   "execution_count": 27,
   "metadata": {},
   "outputs": [
    {
     "data": {
      "text/plain": [
       "array([[[ 59,  62,  63],\n",
       "        [ 43,  46,  45],\n",
       "        [ 50,  48,  43],\n",
       "        ...,\n",
       "        [158, 132, 108],\n",
       "        [152, 125, 102],\n",
       "        [148, 124, 103]],\n",
       "\n",
       "       [[ 16,  20,  20],\n",
       "        [  0,   0,   0],\n",
       "        [ 18,   8,   0],\n",
       "        ...,\n",
       "        [123,  88,  55],\n",
       "        [119,  83,  50],\n",
       "        [122,  87,  57]],\n",
       "\n",
       "       [[ 25,  24,  21],\n",
       "        [ 16,   7,   0],\n",
       "        [ 49,  27,   8],\n",
       "        ...,\n",
       "        [118,  84,  50],\n",
       "        [120,  84,  50],\n",
       "        [109,  73,  42]],\n",
       "\n",
       "       ...,\n",
       "\n",
       "       [[208, 170,  96],\n",
       "        [201, 153,  34],\n",
       "        [198, 161,  26],\n",
       "        ...,\n",
       "        [160, 133,  70],\n",
       "        [ 56,  31,   7],\n",
       "        [ 53,  34,  20]],\n",
       "\n",
       "       [[180, 139,  96],\n",
       "        [173, 123,  42],\n",
       "        [186, 144,  30],\n",
       "        ...,\n",
       "        [184, 148,  94],\n",
       "        [ 97,  62,  34],\n",
       "        [ 83,  53,  34]],\n",
       "\n",
       "       [[177, 144, 116],\n",
       "        [168, 129,  94],\n",
       "        [179, 142,  87],\n",
       "        ...,\n",
       "        [216, 184, 140],\n",
       "        [151, 118,  84],\n",
       "        [123,  92,  72]]], dtype=uint8)"
      ]
     },
     "execution_count": 27,
     "metadata": {},
     "output_type": "execute_result"
    }
   ],
   "source": [
    "sample_image\n"
   ]
  },
  {
   "cell_type": "code",
   "execution_count": 34,
   "metadata": {},
   "outputs": [
    {
     "data": {
      "image/png": "[encoded data removed]",
      "text/plain": [
       "<Figure size 640x480 with 1 Axes>"
      ]
     },
     "metadata": {},
     "output_type": "display_data"
    }
   ],
   "source": [
    "# Access an image from the training dataset (e.g., the first image)\n",
    "sample_image = cifar10_train_images[0]\n",
    "\n",
    "# Convert to grayscale\n",
    "sample_image_gray = sample_image.mean(axis=2)  # Take the mean along the color channels\n",
    "\n",
    "# Display the grayscale image\n",
    "plt.imshow(sample_image_gray, cmap='gray')\n",
    "plt.axis('off')  # Hide axes\n",
    "plt.show()"
   ]
  },
  {
   "cell_type": "code",
   "execution_count": 22,
   "metadata": {},
   "outputs": [
    {
     "data": {
      "text/plain": [
       "array([6], dtype=uint8)"
      ]
     },
     "execution_count": 22,
     "metadata": {},
     "output_type": "execute_result"
    }
   ],
   "source": [
    "sample_label"
   ]
  },
  {
   "cell_type": "code",
   "execution_count": 19,
   "metadata": {},
   "outputs": [
    {
     "name": "stdout",
     "output_type": "stream",
     "text": [
      "Sample Image Shape: (32, 32, 3)\n",
      "Sample Label: [6]\n"
     ]
    }
   ],
   "source": [
    "# Display information about the sample image\n",
    "print(f\"Sample Image Shape: {sample_image.shape}\")\n",
    "print(f\"Sample Label: {sample_label}\")"
   ]
  },
  {
   "cell_type": "code",
   "execution_count": 7,
   "metadata": {},
   "outputs": [],
   "source": [
    "# Preprocess the dataset\n",
    "def preprocess(images, labels):\n",
    "    images = tf.cast(images, tf.float32) / 255.0\n",
    "    return (images, labels)"
   ]
  },
  {
   "cell_type": "code",
   "execution_count": 8,
   "metadata": {},
   "outputs": [],
   "source": [
    "# Split the dataset into multiple \"client\" datasets\n",
    "num_clients = 10\n",
    "client_datasets = []\n",
    "for i in range(num_clients):\n",
    "    start = i * len(cifar10_train_images) // num_clients\n",
    "    end = (i + 1) * len(cifar10_train_images) // num_clients\n",
    "    client_images = cifar10_train_images[start:end]\n",
    "    client_labels = cifar10_train_labels[start:end]\n",
    "    client_dataset = tf.data.Dataset.from_tensor_slices((client_images, client_labels))\n",
    "    client_dataset = client_dataset.map(preprocess).batch(20)\n",
    "    client_datasets.append(client_dataset)"
   ]
  },
  {
   "cell_type": "markdown",
   "metadata": {},
   "source": [
    "### Differential privacy is a mathematical technique that balances data privacy and data utility. It allows organizations to analyze and share private data without revealing sensitive information about individuals. Here’s how it works:\n",
    "\n",
    "#### Randomization: Differential privacy introduces controlled randomness (noise) into datasets. The goal is to prevent anyone from identifying specific individuals in the dataset.\n",
    "#### Privacy Budget (ε): Differential privacy uses a privacy loss parameter, often denoted as ε (epsilon). This parameter controls how much noise is added to the raw dataset. A higher ε value means more accurate but less private data.\n",
    "##### Example Process:\n",
    "Suppose you have a dataset with a column containing “Yes” or “No” answers from individuals.\n",
    "For each individual, you flip a coin:\n",
    "If it’s heads, you keep the answer as is.\n",
    "If it’s tails, you flip the coin again:\n",
    "Heads: Record the answer as “Yes.”\n",
    "Tails: Record the answer as “No.”\n",
    "This process adds randomness while maintaining aggregate accuracy."
   ]
  },
  {
   "cell_type": "code",
   "execution_count": 9,
   "metadata": {},
   "outputs": [],
   "source": [
    "# Define a simple CNN model\n",
    "def create_keras_model():\n",
    "    model = tf.keras.models.Sequential([\n",
    "        tf.keras.layers.Input(shape=(32, 32, 3)),\n",
    "        tf.keras.layers.Conv2D(32, (3, 3), activation='relu'),\n",
    "        tf.keras.layers.MaxPooling2D((2, 2)),\n",
    "        tf.keras.layers.Conv2D(64, (3, 3), activation='relu'),\n",
    "        tf.keras.layers.MaxPooling2D((2, 2)),\n",
    "        tf.keras.layers.Flatten(),\n",
    "        tf.keras.layers.Dense(64, activation='relu'),\n",
    "        tf.keras.layers.Dense(10)\n",
    "    ])\n",
    "    return model\n",
    "\n",
    "\n",
    "\n",
    "def model_fn_standard():\n",
    "    keras_model = create_keras_model()\n",
    "    return tff.learning.from_keras_model(\n",
    "        keras_model,\n",
    "        input_spec=client_datasets[0].element_spec,\n",
    "        #It specifies the input specification based on the first client dataset (client_datasets[0].element_spec).\n",
    "        loss=tf.keras.losses.SparseCategoricalCrossentropy(from_logits=True),\n",
    "        metrics=[tf.keras.metrics.SparseCategoricalAccuracy()])\n",
    "\n",
    "def model_fn_with_dp():\n",
    "    keras_model = create_keras_model()\n",
    "    optimizer = tfp.DPAdamGaussianOptimizer(\n",
    "        l2_norm_clip=1.0,\n",
    "        noise_multiplier=0.5,\n",
    "        num_microbatches=1,\n",
    "        learning_rate=0.001\n",
    "    )\n",
    "    keras_model.compile(optimizer=optimizer,\n",
    "                        loss=tf.keras.losses.SparseCategoricalCrossentropy(from_logits=True),\n",
    "                        metrics=[tf.keras.metrics.SparseCategoricalAccuracy()])\n",
    "    return tff.learning.from_keras_model(\n",
    "        keras_model,\n",
    "        input_spec=client_datasets[0].element_spec,\n",
    "        loss=tf.keras.losses.SparseCategoricalCrossentropy(from_logits=True),\n",
    "        metrics=[tf.keras.metrics.SparseCategoricalAccuracy()])\n",
    "\n"
   ]
  },
  {
   "cell_type": "markdown",
   "metadata": {},
   "source": [
    "#### In  model_fn_with_dp function, I have used the DPAdamGaussianOptimizer from the tensorflow_privacy library. This optimizer adds Gaussian noise to the gradients during the optimization process, which is a common technique for implementing differential privacy in deep learning models."
   ]
  },
  {
   "cell_type": "code",
   "execution_count": 10,
   "metadata": {},
   "outputs": [],
   "source": [
    "def assign_weights_to_keras_model(keras_model, tff_state):\n",
    "    tff_weights = tff_state.model.trainable\n",
    "    for var, tff_var in zip(keras_model.trainable_variables, tff_weights):\n",
    "        var.assign(tff_var)  # Removed .numpy()"
   ]
  },
  {
   "cell_type": "code",
   "execution_count": 11,
   "metadata": {},
   "outputs": [],
   "source": [
    "def evaluate_model(state, model_fn, test_dataset):\n",
    "    keras_model = create_keras_model()\n",
    "    assign_weights_to_keras_model(keras_model, state)\n",
    "\n",
    "    keras_model.compile(\n",
    "        loss=tf.keras.losses.SparseCategoricalCrossentropy(from_logits=True),\n",
    "        metrics=[tf.keras.metrics.SparseCategoricalAccuracy()]\n",
    "    )\n",
    "\n",
    "    test_images, test_labels = zip(*list(test_dataset))\n",
    "    test_images = tf.concat(test_images, axis=0)\n",
    "    test_labels = tf.concat(test_labels, axis=0)\n",
    "\n",
    "    loss, accuracy = keras_model.evaluate(test_images, test_labels, verbose=0)\n",
    "    return loss, accuracy"
   ]
  },
  {
   "cell_type": "code",
   "execution_count": 12,
   "metadata": {},
   "outputs": [],
   "source": [
    "def check_dataset(dataset):\n",
    "    for batch in dataset.take(1):\n",
    "        images, labels = batch\n",
    "        print(f'Batch shape: {images.shape}, Labels: {labels.numpy()}')"
   ]
  },
  {
   "cell_type": "code",
   "execution_count": 13,
   "metadata": {},
   "outputs": [
    {
     "name": "stdout",
     "output_type": "stream",
     "text": [
      "Client 0 dataset:\n",
      "Batch shape: (20, 32, 32, 3), Labels: [[6]\n",
      " [9]\n",
      " [9]\n",
      " [4]\n",
      " [1]\n",
      " [1]\n",
      " [2]\n",
      " [7]\n",
      " [8]\n",
      " [3]\n",
      " [4]\n",
      " [7]\n",
      " [7]\n",
      " [2]\n",
      " [9]\n",
      " [9]\n",
      " [9]\n",
      " [3]\n",
      " [2]\n",
      " [6]]\n",
      "Client 1 dataset:\n",
      "Batch shape: (20, 32, 32, 3), Labels: [[6]\n",
      " [7]\n",
      " [9]\n",
      " [0]\n",
      " [5]\n",
      " [2]\n",
      " [3]\n",
      " [3]\n",
      " [3]\n",
      " [9]\n",
      " [0]\n",
      " [9]\n",
      " [2]\n",
      " [9]\n",
      " [1]\n",
      " [0]\n",
      " [2]\n",
      " [3]\n",
      " [9]\n",
      " [6]]\n",
      "Client 2 dataset:\n",
      "Batch shape: (20, 32, 32, 3), Labels: [[1]\n",
      " [6]\n",
      " [6]\n",
      " [8]\n",
      " [8]\n",
      " [3]\n",
      " [4]\n",
      " [6]\n",
      " [0]\n",
      " [6]\n",
      " [0]\n",
      " [3]\n",
      " [6]\n",
      " [6]\n",
      " [5]\n",
      " [4]\n",
      " [8]\n",
      " [3]\n",
      " [2]\n",
      " [6]]\n",
      "Client 3 dataset:\n",
      "Batch shape: (20, 32, 32, 3), Labels: [[0]\n",
      " [6]\n",
      " [7]\n",
      " [0]\n",
      " [4]\n",
      " [9]\n",
      " [5]\n",
      " [8]\n",
      " [0]\n",
      " [4]\n",
      " [3]\n",
      " [8]\n",
      " [4]\n",
      " [7]\n",
      " [1]\n",
      " [8]\n",
      " [3]\n",
      " [5]\n",
      " [4]\n",
      " [5]]\n",
      "Client 4 dataset:\n",
      "Batch shape: (20, 32, 32, 3), Labels: [[8]\n",
      " [5]\n",
      " [0]\n",
      " [6]\n",
      " [9]\n",
      " [2]\n",
      " [8]\n",
      " [3]\n",
      " [6]\n",
      " [2]\n",
      " [7]\n",
      " [4]\n",
      " [6]\n",
      " [9]\n",
      " [0]\n",
      " [0]\n",
      " [7]\n",
      " [3]\n",
      " [7]\n",
      " [2]]\n",
      "Client 5 dataset:\n",
      "Batch shape: (20, 32, 32, 3), Labels: [[6]\n",
      " [9]\n",
      " [8]\n",
      " [4]\n",
      " [0]\n",
      " [6]\n",
      " [3]\n",
      " [1]\n",
      " [3]\n",
      " [9]\n",
      " [9]\n",
      " [8]\n",
      " [5]\n",
      " [8]\n",
      " [4]\n",
      " [5]\n",
      " [0]\n",
      " [4]\n",
      " [2]\n",
      " [3]]\n",
      "Client 6 dataset:\n",
      "Batch shape: (20, 32, 32, 3), Labels: [[0]\n",
      " [6]\n",
      " [0]\n",
      " [2]\n",
      " [7]\n",
      " [2]\n",
      " [1]\n",
      " [2]\n",
      " [4]\n",
      " [1]\n",
      " [5]\n",
      " [6]\n",
      " [6]\n",
      " [3]\n",
      " [1]\n",
      " [3]\n",
      " [5]\n",
      " [5]\n",
      " [8]\n",
      " [1]]\n",
      "Client 7 dataset:\n",
      "Batch shape: (20, 32, 32, 3), Labels: [[5]\n",
      " [6]\n",
      " [7]\n",
      " [7]\n",
      " [1]\n",
      " [7]\n",
      " [9]\n",
      " [3]\n",
      " [7]\n",
      " [3]\n",
      " [2]\n",
      " [1]\n",
      " [1]\n",
      " [8]\n",
      " [8]\n",
      " [5]\n",
      " [3]\n",
      " [6]\n",
      " [8]\n",
      " [9]]\n",
      "Client 8 dataset:\n",
      "Batch shape: (20, 32, 32, 3), Labels: [[1]\n",
      " [8]\n",
      " [5]\n",
      " [1]\n",
      " [5]\n",
      " [7]\n",
      " [4]\n",
      " [3]\n",
      " [8]\n",
      " [2]\n",
      " [7]\n",
      " [2]\n",
      " [0]\n",
      " [1]\n",
      " [5]\n",
      " [9]\n",
      " [6]\n",
      " [2]\n",
      " [0]\n",
      " [8]]\n",
      "Client 9 dataset:\n",
      "Batch shape: (20, 32, 32, 3), Labels: [[7]\n",
      " [1]\n",
      " [4]\n",
      " [1]\n",
      " [0]\n",
      " [2]\n",
      " [2]\n",
      " [5]\n",
      " [9]\n",
      " [6]\n",
      " [0]\n",
      " [1]\n",
      " [3]\n",
      " [1]\n",
      " [1]\n",
      " [2]\n",
      " [1]\n",
      " [8]\n",
      " [5]\n",
      " [6]]\n"
     ]
    }
   ],
   "source": [
    "for i, client_dataset in enumerate(client_datasets):\n",
    "    print(f'Client {i} dataset:')\n",
    "    check_dataset(client_dataset)"
   ]
  },
  {
   "cell_type": "code",
   "execution_count": 14,
   "metadata": {},
   "outputs": [],
   "source": [
    "# Create federated averaging processes\n",
    "iterative_process_standard = tff.learning.build_federated_averaging_process(\n",
    "    model_fn_standard,\n",
    "    client_optimizer_fn=lambda: tf.keras.optimizers.SGD(learning_rate=0.02),\n",
    "    server_optimizer_fn=lambda: tf.keras.optimizers.SGD(learning_rate=1.0)\n",
    ")\n",
    "\n",
    "iterative_process_with_dp = tff.learning.build_federated_averaging_process(\n",
    "    model_fn_standard,  # Use standard model_fn as DP optimizer will be applied in the client update\n",
    "    client_optimizer_fn=lambda: tf.keras.optimizers.SGD(learning_rate=0.02),\n",
    "    server_optimizer_fn=lambda: tf.keras.optimizers.SGD(learning_rate=1.0)\n",
    ")"
   ]
  },
  {
   "cell_type": "code",
   "execution_count": 15,
   "metadata": {},
   "outputs": [
    {
     "name": "stdout",
     "output_type": "stream",
     "text": [
      "Standard Model - Round 0, metrics=OrderedDict([('sparse_categorical_accuracy', 0.17964), ('loss', 2.2078638)])\n",
      "Standard Model - Round 1, metrics=OrderedDict([('sparse_categorical_accuracy', 0.2609), ('loss', 2.0217845)])\n",
      "Standard Model - Round 2, metrics=OrderedDict([('sparse_categorical_accuracy', 0.30872), ('loss', 1.9185474)])\n"
     ]
    }
   ],
   "source": [
    "# Train the standard model\n",
    "NUM_ROUNDS = 3\n",
    "state_standard = iterative_process_standard.initialize()\n",
    "for round_num in range(NUM_ROUNDS):\n",
    "    state_standard, metrics_standard = iterative_process_standard.next(state_standard, client_datasets)\n",
    "    print(f'Standard Model - Round {round_num}, metrics={metrics_standard[\"train\"]}')"
   ]
  },
  {
   "cell_type": "code",
   "execution_count": 16,
   "metadata": {},
   "outputs": [
    {
     "name": "stdout",
     "output_type": "stream",
     "text": [
      "DP Model - Round 0, metrics=OrderedDict([('sparse_categorical_accuracy', 0.16242), ('loss', 2.236325)])\n",
      "DP Model - Round 1, metrics=OrderedDict([('sparse_categorical_accuracy', 0.24062), ('loss', 2.0594568)])\n",
      "DP Model - Round 2, metrics=OrderedDict([('sparse_categorical_accuracy', 0.29254), ('loss', 1.9599725)])\n"
     ]
    }
   ],
   "source": [
    "# Train the differentially private model\n",
    "state_with_dp = iterative_process_with_dp.initialize()\n",
    "for round_num in range(NUM_ROUNDS):\n",
    "    state_with_dp, metrics_with_dp = iterative_process_with_dp.next(state_with_dp, client_datasets)\n",
    "    print(f'DP Model - Round {round_num}, metrics={metrics_with_dp[\"train\"]}')\n"
   ]
  },
  {
   "cell_type": "code",
   "execution_count": 17,
   "metadata": {},
   "outputs": [
    {
     "name": "stdout",
     "output_type": "stream",
     "text": [
      "Standard Model - Test loss: 1.7991496324539185, Test accuracy: 0.3668000102043152\n",
      "DP Model - Test loss: 1.8537687063217163, Test accuracy: 0.3522999882698059\n"
     ]
    }
   ],
   "source": [
    "# Preprocess the test dataset\n",
    "test_dataset = tf.data.Dataset.from_tensor_slices((cifar10_test_images, cifar10_test_labels))\n",
    "test_dataset = test_dataset.map(preprocess).batch(20)\n",
    "\n",
    "# Evaluate the standard model\n",
    "loss_standard, accuracy_standard = evaluate_model(state_standard, model_fn_standard, test_dataset)\n",
    "print(f'Standard Model - Test loss: {loss_standard}, Test accuracy: {accuracy_standard}')\n",
    "\n",
    "# Evaluate the differentially private model\n",
    "loss_with_dp, accuracy_with_dp = evaluate_model(state_with_dp, model_fn_with_dp, test_dataset)\n",
    "print(f'DP Model - Test loss: {loss_with_dp}, Test accuracy: {accuracy_with_dp}')"
   ]
  },
  {
   "cell_type": "code",
   "execution_count": null,
   "metadata": {},
   "outputs": [],
   "source": []
  }
 ],
 "metadata": {
  "kernelspec": {
   "display_name": "tf_fed_env",
   "language": "python",
   "name": "python3"
  },
  "language_info": {
   "codemirror_mode": {
    "name": "ipython",
    "version": 3
   },
   "file_extension": ".py",
   "mimetype": "text/x-python",
   "name": "python",
   "nbconvert_exporter": "python",
   "pygments_lexer": "ipython3",
   "version": "3.7.16"
  }
 },
 "nbformat": 4,
 "nbformat_minor": 2
}
