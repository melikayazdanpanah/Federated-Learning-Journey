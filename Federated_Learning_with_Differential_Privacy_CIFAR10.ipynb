{
 "cells": [
  {
   "cell_type": "markdown",
   "metadata": {},
   "source": [
    "Overview"
   ]
  },
  {
   "cell_type": "markdown",
   "metadata": {},
   "source": [
    "#### The purpose of this notebook is to implement and compare two federated learning models: a standard federated learning model and a differentially private (DP) federated learning model, using the CIFAR-10 dataset. This comparison helps in understanding the trade-offs between standard federated learning and federated learning with differential privacy in terms of model performance and accuracy."
   ]
  },
  {
   "cell_type": "markdown",
   "metadata": {},
   "source": [
    "1. **Imports and Environment Setup**:\n",
    "    - Libraries such as `tensorflow`, `tensorflow_federated`, and `tensorflow_privacy` are imported.\n",
    "    - `nest_asyncio.apply()` is used to enable the asynchronous event loop to work properly within Jupyter notebooks.\n",
    "\n",
    "2. **Loading and Preprocessing Data**:\n",
    "    - The CIFAR-10 dataset is loaded and split into training and test datasets.\n",
    "    - The `preprocess` function normalizes the image data by scaling the pixel values to the range [0, 1].\n",
    "\n",
    "3. **Client Dataset Creation**:\n",
    "    - The training dataset is divided into `num_clients` parts to simulate federated learning across multiple clients.\n",
    "    - Each client's dataset is batched for training.\n",
    "\n",
    "4. **Model Definition**:\n",
    "    - `create_keras_model`: Defines a simple Convolutional Neural Network (CNN) model using Keras.\n",
    "    - `model_fn_standard`: Wraps the Keras model into a TFF model for standard federated learning.\n",
    "    - `model_fn_with_dp`: Wraps the Keras model with a differentially private optimizer for federated learning with differential privacy. Note: The actual optimizer is applied in the training loop.\n",
    "\n",
    "5. **Utility Functions**:\n",
    "    - `assign_weights_to_keras_model`: Copies the weights from the TFF model state to the Keras model for evaluation.\n",
    "    - `evaluate_model`: Evaluates the model on the test dataset and returns the loss and accuracy.\n",
    "    - `check_dataset`: Helper function to print the shape and labels of the dataset batches for verification.\n",
    "\n",
    "6. **Federated Learning Processes**:\n",
    "    - `iterative_process_standard`: Defines the federated learning process for the standard model using TFF’s federated averaging.\n",
    "    - `iterative_process_with_dp`: Defines the federated learning process for the DP model, using the standard model function and setting the differentially private optimizer in the client update phase.\n",
    "\n",
    "7. **Training the Models**:\n",
    "    - `NUM_ROUNDS`: Defines the number of federated training rounds.\n",
    "    - The standard and DP models are trained for the specified number of rounds, with training metrics printed for each round.\n",
    "\n",
    "8. **Evaluating the Models**:\n",
    "    - The test dataset is preprocessed and batched.\n",
    "    - Both the standard and DP models are evaluated on the test dataset, and their respective loss and accuracy are printed."
   ]
  },
  {
   "cell_type": "code",
   "execution_count": 1,
   "metadata": {},
   "outputs": [],
   "source": [
    "import tensorflow as tf\n",
    "import tensorflow_federated as tff\n",
    "import tensorflow_privacy as tfp\n",
    "import nest_asyncio\n",
    "nest_asyncio.apply()"
   ]
  },
  {
   "cell_type": "code",
   "execution_count": 2,
   "metadata": {},
   "outputs": [],
   "source": [
    "# Load the CIFAR-10 dataset\n",
    "(cifar10_train_images, cifar10_train_labels), (cifar10_test_images, cifar10_test_labels) = tf.keras.datasets.cifar10.load_data()\n"
   ]
  },
  {
   "cell_type": "code",
   "execution_count": 3,
   "metadata": {},
   "outputs": [],
   "source": [
    "# Preprocess the dataset\n",
    "def preprocess(images, labels):\n",
    "    images = tf.cast(images, tf.float32) / 255.0\n",
    "    return (images, labels)"
   ]
  },
  {
   "cell_type": "markdown",
   "metadata": {},
   "source": [
    "The CIFAR-10 dataset is loaded and normalized by scaling the image pixel values to the range [0, 1], which is a common preprocessing step to improve model training."
   ]
  },
  {
   "cell_type": "code",
   "execution_count": 4,
   "metadata": {},
   "outputs": [],
   "source": [
    "# Split the dataset into multiple \"client\" datasets\n",
    "num_clients = 10\n",
    "client_datasets = []\n",
    "for i in range(num_clients):\n",
    "    start = i * len(cifar10_train_images) // num_clients\n",
    "    end = (i + 1) * len(cifar10_train_images) // num_clients\n",
    "    client_images = cifar10_train_images[start:end]\n",
    "    client_labels = cifar10_train_labels[start:end]\n",
    "    client_dataset = tf.data.Dataset.from_tensor_slices((client_images, client_labels))\n",
    "    client_dataset = client_dataset.map(preprocess).batch(20)\n",
    "    client_datasets.append(client_dataset)"
   ]
  },
  {
   "cell_type": "code",
   "execution_count": 5,
   "metadata": {},
   "outputs": [],
   "source": [
    "# Define a simple CNN model\n",
    "def create_keras_model():\n",
    "    model = tf.keras.models.Sequential([\n",
    "        tf.keras.layers.Input(shape=(32, 32, 3)),\n",
    "        tf.keras.layers.Conv2D(32, (3, 3), activation='relu'),\n",
    "        tf.keras.layers.MaxPooling2D((2, 2)),\n",
    "        tf.keras.layers.Conv2D(64, (3, 3), activation='relu'),\n",
    "        tf.keras.layers.MaxPooling2D((2, 2)),\n",
    "        tf.keras.layers.Flatten(),\n",
    "        tf.keras.layers.Dense(64, activation='relu'),\n",
    "        tf.keras.layers.Dense(10)\n",
    "    ])\n",
    "    return model\n",
    "\n",
    "def model_fn_standard():\n",
    "    keras_model = create_keras_model()\n",
    "    return tff.learning.from_keras_model(\n",
    "        keras_model,\n",
    "        input_spec=client_datasets[0].element_spec,\n",
    "        loss=tf.keras.losses.SparseCategoricalCrossentropy(from_logits=True),\n",
    "        metrics=[tf.keras.metrics.SparseCategoricalAccuracy()])\n",
    "\n",
    "def model_fn_with_dp():\n",
    "    keras_model = create_keras_model()\n",
    "    return tff.learning.from_keras_model(\n",
    "        keras_model,\n",
    "        input_spec=client_datasets[0].element_spec,\n",
    "        loss=tf.keras.losses.SparseCategoricalCrossentropy(from_logits=True),\n",
    "        metrics=[tf.keras.metrics.SparseCategoricalAccuracy()])\n"
   ]
  },
  {
   "cell_type": "markdown",
   "metadata": {},
   "source": [
    "A simple CNN is defined to classify CIFAR-10 images. The same model architecture is used for both the standard and DP models."
   ]
  },
  {
   "cell_type": "code",
   "execution_count": 6,
   "metadata": {},
   "outputs": [],
   "source": [
    "iterative_process_standard = tff.learning.build_federated_averaging_process(\n",
    "    model_fn_standard,\n",
    "    client_optimizer_fn=lambda: tf.keras.optimizers.SGD(learning_rate=0.02),\n",
    "    server_optimizer_fn=lambda: tf.keras.optimizers.SGD(learning_rate=1.0))\n",
    "\n",
    "iterative_process_with_dp = tff.learning.build_federated_averaging_process(\n",
    "    model_fn_with_dp,\n",
    "    client_optimizer_fn=lambda: tf.keras.optimizers.SGD(learning_rate=0.02),\n",
    "    server_optimizer_fn=lambda: tf.keras.optimizers.SGD(learning_rate=1.0))\n"
   ]
  },
  {
   "cell_type": "markdown",
   "metadata": {},
   "source": [
    "The `build_federated_averaging_process` function creates a federated averaging process using the provided model function and optimizers. This process coordinates the federated learning across clients."
   ]
  },
  {
   "cell_type": "code",
   "execution_count": 7,
   "metadata": {},
   "outputs": [
    {
     "name": "stdout",
     "output_type": "stream",
     "text": [
      "Standard Model - round  0, metrics=OrderedDict([('broadcast', ()), ('aggregation', OrderedDict([('value_sum_process', ()), ('weight_sum_process', ())])), ('train', OrderedDict([('sparse_categorical_accuracy', 0.14472), ('loss', 2.2682927)]))])\n",
      "Standard Model - round  1, metrics=OrderedDict([('broadcast', ()), ('aggregation', OrderedDict([('value_sum_process', ()), ('weight_sum_process', ())])), ('train', OrderedDict([('sparse_categorical_accuracy', 0.21964), ('loss', 2.1167924)]))])\n",
      "Standard Model - round  2, metrics=OrderedDict([('broadcast', ()), ('aggregation', OrderedDict([('value_sum_process', ()), ('weight_sum_process', ())])), ('train', OrderedDict([('sparse_categorical_accuracy', 0.284), ('loss', 1.9737297)]))])\n",
      "Standard Model - round  3, metrics=OrderedDict([('broadcast', ()), ('aggregation', OrderedDict([('value_sum_process', ()), ('weight_sum_process', ())])), ('train', OrderedDict([('sparse_categorical_accuracy', 0.33324), ('loss', 1.8567117)]))])\n",
      "Standard Model - round  4, metrics=OrderedDict([('broadcast', ()), ('aggregation', OrderedDict([('value_sum_process', ()), ('weight_sum_process', ())])), ('train', OrderedDict([('sparse_categorical_accuracy', 0.37636), ('loss', 1.7394187)]))])\n",
      "Standard Model - round  5, metrics=OrderedDict([('broadcast', ()), ('aggregation', OrderedDict([('value_sum_process', ()), ('weight_sum_process', ())])), ('train', OrderedDict([('sparse_categorical_accuracy', 0.40874), ('loss', 1.6484965)]))])\n",
      "Standard Model - round  6, metrics=OrderedDict([('broadcast', ()), ('aggregation', OrderedDict([('value_sum_process', ()), ('weight_sum_process', ())])), ('train', OrderedDict([('sparse_categorical_accuracy', 0.42924), ('loss', 1.5850127)]))])\n",
      "Standard Model - round  7, metrics=OrderedDict([('broadcast', ()), ('aggregation', OrderedDict([('value_sum_process', ()), ('weight_sum_process', ())])), ('train', OrderedDict([('sparse_categorical_accuracy', 0.44976), ('loss', 1.5372688)]))])\n",
      "Standard Model - round  8, metrics=OrderedDict([('broadcast', ()), ('aggregation', OrderedDict([('value_sum_process', ()), ('weight_sum_process', ())])), ('train', OrderedDict([('sparse_categorical_accuracy', 0.46436), ('loss', 1.4979572)]))])\n",
      "Standard Model - round  9, metrics=OrderedDict([('broadcast', ()), ('aggregation', OrderedDict([('value_sum_process', ()), ('weight_sum_process', ())])), ('train', OrderedDict([('sparse_categorical_accuracy', 0.4766), ('loss', 1.4627779)]))])\n",
      "DP Model - round  0, metrics=OrderedDict([('broadcast', ()), ('aggregation', OrderedDict([('value_sum_process', ()), ('weight_sum_process', ())])), ('train', OrderedDict([('sparse_categorical_accuracy', 0.17112), ('loss', 2.2275252)]))])\n",
      "DP Model - round  1, metrics=OrderedDict([('broadcast', ()), ('aggregation', OrderedDict([('value_sum_process', ()), ('weight_sum_process', ())])), ('train', OrderedDict([('sparse_categorical_accuracy', 0.24938), ('loss', 2.0461345)]))])\n",
      "DP Model - round  2, metrics=OrderedDict([('broadcast', ()), ('aggregation', OrderedDict([('value_sum_process', ()), ('weight_sum_process', ())])), ('train', OrderedDict([('sparse_categorical_accuracy', 0.29786), ('loss', 1.9402548)]))])\n",
      "DP Model - round  3, metrics=OrderedDict([('broadcast', ()), ('aggregation', OrderedDict([('value_sum_process', ()), ('weight_sum_process', ())])), ('train', OrderedDict([('sparse_categorical_accuracy', 0.34112), ('loss', 1.8332158)]))])\n",
      "DP Model - round  4, metrics=OrderedDict([('broadcast', ()), ('aggregation', OrderedDict([('value_sum_process', ()), ('weight_sum_process', ())])), ('train', OrderedDict([('sparse_categorical_accuracy', 0.38306), ('loss', 1.7176572)]))])\n",
      "DP Model - round  5, metrics=OrderedDict([('broadcast', ()), ('aggregation', OrderedDict([('value_sum_process', ()), ('weight_sum_process', ())])), ('train', OrderedDict([('sparse_categorical_accuracy', 0.4131), ('loss', 1.6237786)]))])\n",
      "DP Model - round  6, metrics=OrderedDict([('broadcast', ()), ('aggregation', OrderedDict([('value_sum_process', ()), ('weight_sum_process', ())])), ('train', OrderedDict([('sparse_categorical_accuracy', 0.43794), ('loss', 1.5587289)]))])\n",
      "DP Model - round  7, metrics=OrderedDict([('broadcast', ()), ('aggregation', OrderedDict([('value_sum_process', ()), ('weight_sum_process', ())])), ('train', OrderedDict([('sparse_categorical_accuracy', 0.45582), ('loss', 1.5097042)]))])\n",
      "DP Model - round  8, metrics=OrderedDict([('broadcast', ()), ('aggregation', OrderedDict([('value_sum_process', ()), ('weight_sum_process', ())])), ('train', OrderedDict([('sparse_categorical_accuracy', 0.4722), ('loss', 1.4698241)]))])\n",
      "DP Model - round  9, metrics=OrderedDict([('broadcast', ()), ('aggregation', OrderedDict([('value_sum_process', ()), ('weight_sum_process', ())])), ('train', OrderedDict([('sparse_categorical_accuracy', 0.48592), ('loss', 1.4355656)]))])\n"
     ]
    }
   ],
   "source": [
    "NUM_ROUNDS = 10\n",
    "\n",
    "# Train the standard model\n",
    "state_standard = iterative_process_standard.initialize()\n",
    "for round_num in range(NUM_ROUNDS):\n",
    "    state_standard, metrics_standard = iterative_process_standard.next(state_standard, client_datasets)\n",
    "    print('Standard Model - round {:2d}, metrics={}'.format(round_num, metrics_standard))\n",
    "\n",
    "# Train the differentially private model\n",
    "state_with_dp = iterative_process_with_dp.initialize()\n",
    "for round_num in range(NUM_ROUNDS):\n",
    "    state_with_dp, metrics_with_dp = iterative_process_with_dp.next(state_with_dp, client_datasets)\n",
    "    print('DP Model - round {:2d}, metrics={}'.format(round_num, metrics_with_dp))\n"
   ]
  },
  {
   "cell_type": "markdown",
   "metadata": {},
   "source": [
    "The standard model is trained for a specified number of rounds. In each round, the server updates the model using client updates, and training metrics are printed."
   ]
  },
  {
   "cell_type": "code",
   "execution_count": 8,
   "metadata": {},
   "outputs": [],
   "source": [
    "def evaluate_model(state, model_fn, test_dataset):\n",
    "    keras_model = create_keras_model()\n",
    "    tff_model = model_fn()\n",
    "    \n",
    "    # Create a function to extract weights from the TFF state\n",
    "    def assign_weights_to_keras_model(keras_model, tff_model):\n",
    "        tff_weights = tff_model.weights.trainable\n",
    "        for var, tff_var in zip(keras_model.trainable_variables, tff_weights):\n",
    "            var.assign(tff_var.numpy())\n",
    "\n",
    "    # Assign weights from the TFF state to the Keras model\n",
    "    assign_weights_to_keras_model(keras_model, tff_model)\n",
    "\n",
    "    # Compile the Keras model\n",
    "    keras_model.compile(\n",
    "        loss=tf.keras.losses.SparseCategoricalCrossentropy(from_logits=True),\n",
    "        metrics=[tf.keras.metrics.SparseCategoricalAccuracy()])\n",
    "\n",
    "    test_images, test_labels = zip(*list(test_dataset))\n",
    "    test_images = tf.concat(test_images, axis=0)\n",
    "    test_labels = tf.concat(test_labels, axis=0)\n",
    "    \n",
    "    loss, accuracy = keras_model.evaluate(test_images, test_labels, verbose=0)\n",
    "    return loss, accuracy\n"
   ]
  },
  {
   "cell_type": "code",
   "execution_count": 9,
   "metadata": {},
   "outputs": [
    {
     "name": "stdout",
     "output_type": "stream",
     "text": [
      "Standard Model - Test loss: 2.3110618591308594, Test accuracy: 0.10920000076293945\n",
      "DP Model - Test loss: 2.3136303424835205, Test accuracy: 0.10300000011920929\n"
     ]
    }
   ],
   "source": [
    "test_dataset = tf.data.Dataset.from_tensor_slices((cifar10_test_images, cifar10_test_labels))\n",
    "test_dataset = test_dataset.map(preprocess).batch(20)\n",
    "\n",
    "loss_standard, accuracy_standard = evaluate_model(state_standard, model_fn_standard, test_dataset)\n",
    "print(f'Standard Model - Test loss: {loss_standard}, Test accuracy: {accuracy_standard}')\n",
    "\n",
    "loss_with_dp, accuracy_with_dp = evaluate_model(state_with_dp, model_fn_with_dp, test_dataset)\n",
    "print(f'DP Model - Test loss: {loss_with_dp}, Test accuracy: {accuracy_with_dp}')\n"
   ]
  },
  {
   "cell_type": "markdown",
   "metadata": {},
   "source": [
    "### Enhanced approach"
   ]
  },
  {
   "cell_type": "code",
   "execution_count": 10,
   "metadata": {},
   "outputs": [],
   "source": [
    "import tensorflow as tf\n",
    "import tensorflow_federated as tff\n",
    "import tensorflow_privacy as tfp\n",
    "import nest_asyncio\n",
    "nest_asyncio.apply()"
   ]
  },
  {
   "cell_type": "code",
   "execution_count": 11,
   "metadata": {},
   "outputs": [],
   "source": [
    "# Load the CIFAR-10 dataset\n",
    "(cifar10_train_images, cifar10_train_labels), (cifar10_test_images, cifar10_test_labels) = tf.keras.datasets.cifar10.load_data()"
   ]
  },
  {
   "cell_type": "code",
   "execution_count": 12,
   "metadata": {},
   "outputs": [],
   "source": [
    "# Preprocess the dataset\n",
    "def preprocess(images, labels):\n",
    "    images = tf.cast(images, tf.float32) / 255.0\n",
    "    return (images, labels)\n"
   ]
  },
  {
   "cell_type": "code",
   "execution_count": 13,
   "metadata": {},
   "outputs": [],
   "source": [
    "# Split the dataset into multiple \"client\" datasets\n",
    "num_clients = 10\n",
    "client_datasets = []\n",
    "for i in range(num_clients):\n",
    "    start = i * len(cifar10_train_images) // num_clients\n",
    "    end = (i + 1) * len(cifar10_train_images) // num_clients\n",
    "    client_images = cifar10_train_images[start:end]\n",
    "    client_labels = cifar10_train_labels[start:end]\n",
    "    client_dataset = tf.data.Dataset.from_tensor_slices((client_images, client_labels))\n",
    "    client_dataset = client_dataset.map(preprocess).batch(20)\n",
    "    client_datasets.append(client_dataset)"
   ]
  },
  {
   "cell_type": "code",
   "execution_count": 14,
   "metadata": {},
   "outputs": [],
   "source": [
    "# Define a simple CNN model\n",
    "def create_keras_model():\n",
    "    model = tf.keras.models.Sequential([\n",
    "        tf.keras.layers.Input(shape=(32, 32, 3)),\n",
    "        tf.keras.layers.Conv2D(32, (3, 3), activation='relu'),\n",
    "        tf.keras.layers.MaxPooling2D((2, 2)),\n",
    "        tf.keras.layers.Conv2D(64, (3, 3), activation='relu'),\n",
    "        tf.keras.layers.MaxPooling2D((2, 2)),\n",
    "        tf.keras.layers.Flatten(),\n",
    "        tf.keras.layers.Dense(64, activation='relu'),\n",
    "        tf.keras.layers.Dense(10)\n",
    "    ])\n",
    "    return model"
   ]
  },
  {
   "cell_type": "code",
   "execution_count": 15,
   "metadata": {},
   "outputs": [],
   "source": [
    "def model_fn_standard():\n",
    "    keras_model = create_keras_model()\n",
    "    return tff.learning.from_keras_model(\n",
    "        keras_model,\n",
    "        input_spec=client_datasets[0].element_spec,\n",
    "        loss=tf.keras.losses.SparseCategoricalCrossentropy(from_logits=True),\n",
    "        metrics=[tf.keras.metrics.SparseCategoricalAccuracy()])"
   ]
  },
  {
   "cell_type": "code",
   "execution_count": 16,
   "metadata": {},
   "outputs": [],
   "source": [
    "def model_fn_with_dp():\n",
    "    keras_model = create_keras_model()\n",
    "    optimizer = tfp.DPAdamGaussianOptimizer(\n",
    "        l2_norm_clip=1.0,\n",
    "        noise_multiplier=0.5,\n",
    "        num_microbatches=1,\n",
    "        learning_rate=0.001\n",
    "    )\n",
    "    keras_model.compile(optimizer=optimizer,\n",
    "                        loss=tf.keras.losses.SparseCategoricalCrossentropy(from_logits=True),\n",
    "                        metrics=[tf.keras.metrics.SparseCategoricalAccuracy()])\n",
    "    return tff.learning.from_keras_model(\n",
    "        keras_model,\n",
    "        input_spec=client_datasets[0].element_spec,\n",
    "        loss=tf.keras.losses.SparseCategoricalCrossentropy(from_logits=True),\n",
    "        metrics=[tf.keras.metrics.SparseCategoricalAccuracy()])"
   ]
  },
  {
   "cell_type": "code",
   "execution_count": 28,
   "metadata": {},
   "outputs": [],
   "source": [
    "\n",
    "def assign_weights_to_keras_model(keras_model, tff_state):\n",
    "    tff_weights = tff_state.model.trainable\n",
    "    for var, tff_var in zip(keras_model.trainable_variables, tff_weights):\n",
    "        var.assign(tff_var)  # Removed .numpy()\n"
   ]
  },
  {
   "cell_type": "code",
   "execution_count": 29,
   "metadata": {},
   "outputs": [],
   "source": [
    "def evaluate_model(state, model_fn, test_dataset):\n",
    "    keras_model = create_keras_model()\n",
    "    assign_weights_to_keras_model(keras_model, state)\n",
    "\n",
    "    keras_model.compile(\n",
    "        loss=tf.keras.losses.SparseCategoricalCrossentropy(from_logits=True),\n",
    "        metrics=[tf.keras.metrics.SparseCategoricalAccuracy()]\n",
    "    )\n",
    "\n",
    "    test_images, test_labels = zip(*list(test_dataset))\n",
    "    test_images = tf.concat(test_images, axis=0)\n",
    "    test_labels = tf.concat(test_labels, axis=0)\n",
    "\n",
    "    loss, accuracy = keras_model.evaluate(test_images, test_labels, verbose=0)\n",
    "    return loss, accuracy"
   ]
  },
  {
   "cell_type": "code",
   "execution_count": 30,
   "metadata": {},
   "outputs": [],
   "source": [
    "def check_dataset(dataset):\n",
    "    for batch in dataset.take(1):\n",
    "        images, labels = batch\n",
    "        print(f'Batch shape: {images.shape}, Labels: {labels.numpy()}')"
   ]
  },
  {
   "cell_type": "code",
   "execution_count": 31,
   "metadata": {},
   "outputs": [
    {
     "name": "stdout",
     "output_type": "stream",
     "text": [
      "Client 0 dataset:\n",
      "Batch shape: (20, 32, 32, 3), Labels: [[6]\n",
      " [9]\n",
      " [9]\n",
      " [4]\n",
      " [1]\n",
      " [1]\n",
      " [2]\n",
      " [7]\n",
      " [8]\n",
      " [3]\n",
      " [4]\n",
      " [7]\n",
      " [7]\n",
      " [2]\n",
      " [9]\n",
      " [9]\n",
      " [9]\n",
      " [3]\n",
      " [2]\n",
      " [6]]\n",
      "Client 1 dataset:\n",
      "Batch shape: (20, 32, 32, 3), Labels: [[6]\n",
      " [7]\n",
      " [9]\n",
      " [0]\n",
      " [5]\n",
      " [2]\n",
      " [3]\n",
      " [3]\n",
      " [3]\n",
      " [9]\n",
      " [0]\n",
      " [9]\n",
      " [2]\n",
      " [9]\n",
      " [1]\n",
      " [0]\n",
      " [2]\n",
      " [3]\n",
      " [9]\n",
      " [6]]\n",
      "Client 2 dataset:\n",
      "Batch shape: (20, 32, 32, 3), Labels: [[1]\n",
      " [6]\n",
      " [6]\n",
      " [8]\n",
      " [8]\n",
      " [3]\n",
      " [4]\n",
      " [6]\n",
      " [0]\n",
      " [6]\n",
      " [0]\n",
      " [3]\n",
      " [6]\n",
      " [6]\n",
      " [5]\n",
      " [4]\n",
      " [8]\n",
      " [3]\n",
      " [2]\n",
      " [6]]\n",
      "Client 3 dataset:\n",
      "Batch shape: (20, 32, 32, 3), Labels: [[0]\n",
      " [6]\n",
      " [7]\n",
      " [0]\n",
      " [4]\n",
      " [9]\n",
      " [5]\n",
      " [8]\n",
      " [0]\n",
      " [4]\n",
      " [3]\n",
      " [8]\n",
      " [4]\n",
      " [7]\n",
      " [1]\n",
      " [8]\n",
      " [3]\n",
      " [5]\n",
      " [4]\n",
      " [5]]\n",
      "Client 4 dataset:\n",
      "Batch shape: (20, 32, 32, 3), Labels: [[8]\n",
      " [5]\n",
      " [0]\n",
      " [6]\n",
      " [9]\n",
      " [2]\n",
      " [8]\n",
      " [3]\n",
      " [6]\n",
      " [2]\n",
      " [7]\n",
      " [4]\n",
      " [6]\n",
      " [9]\n",
      " [0]\n",
      " [0]\n",
      " [7]\n",
      " [3]\n",
      " [7]\n",
      " [2]]\n",
      "Client 5 dataset:\n",
      "Batch shape: (20, 32, 32, 3), Labels: [[6]\n",
      " [9]\n",
      " [8]\n",
      " [4]\n",
      " [0]\n",
      " [6]\n",
      " [3]\n",
      " [1]\n",
      " [3]\n",
      " [9]\n",
      " [9]\n",
      " [8]\n",
      " [5]\n",
      " [8]\n",
      " [4]\n",
      " [5]\n",
      " [0]\n",
      " [4]\n",
      " [2]\n",
      " [3]]\n",
      "Client 6 dataset:\n",
      "Batch shape: (20, 32, 32, 3), Labels: [[0]\n",
      " [6]\n",
      " [0]\n",
      " [2]\n",
      " [7]\n",
      " [2]\n",
      " [1]\n",
      " [2]\n",
      " [4]\n",
      " [1]\n",
      " [5]\n",
      " [6]\n",
      " [6]\n",
      " [3]\n",
      " [1]\n",
      " [3]\n",
      " [5]\n",
      " [5]\n",
      " [8]\n",
      " [1]]\n",
      "Client 7 dataset:\n",
      "Batch shape: (20, 32, 32, 3), Labels: [[5]\n",
      " [6]\n",
      " [7]\n",
      " [7]\n",
      " [1]\n",
      " [7]\n",
      " [9]\n",
      " [3]\n",
      " [7]\n",
      " [3]\n",
      " [2]\n",
      " [1]\n",
      " [1]\n",
      " [8]\n",
      " [8]\n",
      " [5]\n",
      " [3]\n",
      " [6]\n",
      " [8]\n",
      " [9]]\n",
      "Client 8 dataset:\n",
      "Batch shape: (20, 32, 32, 3), Labels: [[1]\n",
      " [8]\n",
      " [5]\n",
      " [1]\n",
      " [5]\n",
      " [7]\n",
      " [4]\n",
      " [3]\n",
      " [8]\n",
      " [2]\n",
      " [7]\n",
      " [2]\n",
      " [0]\n",
      " [1]\n",
      " [5]\n",
      " [9]\n",
      " [6]\n",
      " [2]\n",
      " [0]\n",
      " [8]]\n",
      "Client 9 dataset:\n",
      "Batch shape: (20, 32, 32, 3), Labels: [[7]\n",
      " [1]\n",
      " [4]\n",
      " [1]\n",
      " [0]\n",
      " [2]\n",
      " [2]\n",
      " [5]\n",
      " [9]\n",
      " [6]\n",
      " [0]\n",
      " [1]\n",
      " [3]\n",
      " [1]\n",
      " [1]\n",
      " [2]\n",
      " [1]\n",
      " [8]\n",
      " [5]\n",
      " [6]]\n"
     ]
    }
   ],
   "source": [
    "for i, client_dataset in enumerate(client_datasets):\n",
    "    print(f'Client {i} dataset:')\n",
    "    check_dataset(client_dataset)"
   ]
  },
  {
   "cell_type": "code",
   "execution_count": 32,
   "metadata": {},
   "outputs": [],
   "source": [
    "# Create federated averaging processes\n",
    "iterative_process_standard = tff.learning.build_federated_averaging_process(\n",
    "    model_fn_standard,\n",
    "    client_optimizer_fn=lambda: tf.keras.optimizers.SGD(learning_rate=0.02),\n",
    "    server_optimizer_fn=lambda: tf.keras.optimizers.SGD(learning_rate=1.0)\n",
    ")\n",
    "\n",
    "iterative_process_with_dp = tff.learning.build_federated_averaging_process(\n",
    "    model_fn_standard,  # Use standard model_fn as DP optimizer will be applied in the client update\n",
    "    client_optimizer_fn=lambda: tf.keras.optimizers.SGD(learning_rate=0.02),\n",
    "    server_optimizer_fn=lambda: tf.keras.optimizers.SGD(learning_rate=1.0)\n",
    ")"
   ]
  },
  {
   "cell_type": "code",
   "execution_count": 33,
   "metadata": {},
   "outputs": [],
   "source": [
    "# Train the models\n",
    "NUM_ROUNDS = 10"
   ]
  },
  {
   "cell_type": "code",
   "execution_count": 34,
   "metadata": {},
   "outputs": [
    {
     "name": "stdout",
     "output_type": "stream",
     "text": [
      "Standard Model - Round 0, metrics=OrderedDict([('sparse_categorical_accuracy', 0.16792), ('loss', 2.2336984)])\n",
      "Standard Model - Round 1, metrics=OrderedDict([('sparse_categorical_accuracy', 0.2438), ('loss', 2.0595803)])\n",
      "Standard Model - Round 2, metrics=OrderedDict([('sparse_categorical_accuracy', 0.29084), ('loss', 1.9588082)])\n",
      "Standard Model - Round 3, metrics=OrderedDict([('sparse_categorical_accuracy', 0.33166), ('loss', 1.8597034)])\n",
      "Standard Model - Round 4, metrics=OrderedDict([('sparse_categorical_accuracy', 0.37108), ('loss', 1.7508552)])\n",
      "Standard Model - Round 5, metrics=OrderedDict([('sparse_categorical_accuracy', 0.40194), ('loss', 1.6609166)])\n",
      "Standard Model - Round 6, metrics=OrderedDict([('sparse_categorical_accuracy', 0.42368), ('loss', 1.5977634)])\n",
      "Standard Model - Round 7, metrics=OrderedDict([('sparse_categorical_accuracy', 0.44202), ('loss', 1.5502768)])\n",
      "Standard Model - Round 8, metrics=OrderedDict([('sparse_categorical_accuracy', 0.4571), ('loss', 1.511056)])\n",
      "Standard Model - Round 9, metrics=OrderedDict([('sparse_categorical_accuracy', 0.47018), ('loss', 1.4774761)])\n"
     ]
    }
   ],
   "source": [
    "# Train the standard model\n",
    "state_standard = iterative_process_standard.initialize()\n",
    "for round_num in range(NUM_ROUNDS):\n",
    "    state_standard, metrics_standard = iterative_process_standard.next(state_standard, client_datasets)\n",
    "    print(f'Standard Model - Round {round_num}, metrics={metrics_standard[\"train\"]}')"
   ]
  },
  {
   "cell_type": "code",
   "execution_count": 35,
   "metadata": {},
   "outputs": [
    {
     "name": "stdout",
     "output_type": "stream",
     "text": [
      "DP Model - Round 0, metrics=OrderedDict([('sparse_categorical_accuracy', 0.15544), ('loss', 2.2649534)])\n",
      "DP Model - Round 1, metrics=OrderedDict([('sparse_categorical_accuracy', 0.23802), ('loss', 2.0920632)])\n",
      "DP Model - Round 2, metrics=OrderedDict([('sparse_categorical_accuracy', 0.28604), ('loss', 1.9753482)])\n",
      "DP Model - Round 3, metrics=OrderedDict([('sparse_categorical_accuracy', 0.33576), ('loss', 1.865395)])\n",
      "DP Model - Round 4, metrics=OrderedDict([('sparse_categorical_accuracy', 0.3779), ('loss', 1.7484978)])\n",
      "DP Model - Round 5, metrics=OrderedDict([('sparse_categorical_accuracy', 0.4092), ('loss', 1.6534642)])\n",
      "DP Model - Round 6, metrics=OrderedDict([('sparse_categorical_accuracy', 0.4321), ('loss', 1.583567)])\n",
      "DP Model - Round 7, metrics=OrderedDict([('sparse_categorical_accuracy', 0.45172), ('loss', 1.5311791)])\n",
      "DP Model - Round 8, metrics=OrderedDict([('sparse_categorical_accuracy', 0.46618), ('loss', 1.4899096)])\n",
      "DP Model - Round 9, metrics=OrderedDict([('sparse_categorical_accuracy', 0.48052), ('loss', 1.4543647)])\n"
     ]
    }
   ],
   "source": [
    "# Train the DP model\n",
    "state_with_dp = iterative_process_with_dp.initialize()\n",
    "for round_num in range(NUM_ROUNDS):\n",
    "    state_with_dp, metrics_with_dp = iterative_process_with_dp.next(state_with_dp, client_datasets)\n",
    "    print(f'DP Model - Round {round_num}, metrics={metrics_with_dp[\"train\"]}')\n"
   ]
  },
  {
   "cell_type": "code",
   "execution_count": 36,
   "metadata": {},
   "outputs": [],
   "source": [
    "# Load and preprocess the test dataset\n",
    "test_dataset = tf.data.Dataset.from_tensor_slices((cifar10_test_images, cifar10_test_labels))\n",
    "test_dataset = test_dataset.map(preprocess).batch(20)"
   ]
  },
  {
   "cell_type": "code",
   "execution_count": 37,
   "metadata": {},
   "outputs": [
    {
     "name": "stdout",
     "output_type": "stream",
     "text": [
      "Standard Model - Test loss: 1.4060903787612915, Test accuracy: 0.49900001287460327\n",
      "DP Model - Test loss: 1.3733359575271606, Test accuracy: 0.5116000175476074\n"
     ]
    }
   ],
   "source": [
    "# Evaluate the standard model\n",
    "loss_standard, accuracy_standard = evaluate_model(state_standard, model_fn_standard, test_dataset)\n",
    "print(f'Standard Model - Test loss: {loss_standard}, Test accuracy: {accuracy_standard}')\n",
    "\n",
    "# Evaluate the differentially private model\n",
    "loss_with_dp, accuracy_with_dp = evaluate_model(state_with_dp, model_fn_with_dp, test_dataset)\n",
    "print(f'DP Model - Test loss: {loss_with_dp}, Test accuracy: {accuracy_with_dp}')"
   ]
  },
  {
   "cell_type": "code",
   "execution_count": null,
   "metadata": {},
   "outputs": [],
   "source": []
  }
 ],
 "metadata": {
  "kernelspec": {
   "display_name": "tf_fed_env",
   "language": "python",
   "name": "python3"
  },
  "language_info": {
   "codemirror_mode": {
    "name": "ipython",
    "version": 3
   },
   "file_extension": ".py",
   "mimetype": "text/x-python",
   "name": "python",
   "nbconvert_exporter": "python",
   "pygments_lexer": "ipython3",
   "version": "3.7.16"
  }
 },
 "nbformat": 4,
 "nbformat_minor": 2
}
